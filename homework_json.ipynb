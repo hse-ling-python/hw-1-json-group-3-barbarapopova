{
 "cells": [
  {
   "cell_type": "markdown",
   "metadata": {},
   "source": [
    "Попова Варвара, 183 группа"
   ]
  },
  {
   "cell_type": "markdown",
   "metadata": {},
   "source": [
    "# Домашнее задание 1. JSON"
   ]
  },
  {
   "cell_type": "markdown",
   "metadata": {},
   "source": [
    "Для начала превращаем наш файл со строками JSON в питоновский список из словарей с твитами и информацией о них."
   ]
  },
  {
   "cell_type": "code",
   "execution_count": 425,
   "metadata": {},
   "outputs": [],
   "source": [
    "%pycodestyle_on\n",
    "\n",
    "import json\n",
    "from collections import Counter\n",
    "\n",
    "twitter = []\n",
    "for line in open('hw_3_twitter.json'):\n",
    "    twitter.append(json.loads(line))"
   ]
  },
  {
   "cell_type": "markdown",
   "metadata": {},
   "source": [
    "## Задание №1\n",
    "\n",
    "Так как в первоначальном файле каждому твиту была посвящена отдельная json-строка, и мы выкачивали их по отдельности в питоновский список, чтобы узнать сколько всего твитов было в файле, достаточно узнать длину получившегося списка."
   ]
  },
  {
   "cell_type": "code",
   "execution_count": 426,
   "metadata": {},
   "outputs": [
    {
     "data": {
      "text/plain": [
       "2556"
      ]
     },
     "execution_count": 426,
     "metadata": {},
     "output_type": "execute_result"
    }
   ],
   "source": [
    "len(twitter)"
   ]
  },
  {
   "cell_type": "markdown",
   "metadata": {},
   "source": [
    "## Задание №2\n",
    "\n",
    "Чтобы посчитать процент удаленных твитов, сначала считаем их количество: в каждом твите из списка (бывшего файла) проходимся циклом по ключам и, если в нем есть ключ 'delete' (в каждом удаленном твите есть такой ключ и только один), увеличиваем созданную заранее переменную на один. Потом делим кол-во удаленных твитов на общее кол-во твитов и умножаем на 100."
   ]
  },
  {
   "cell_type": "code",
   "execution_count": 427,
   "metadata": {},
   "outputs": [
    {
     "data": {
      "text/plain": [
       "14.16"
      ]
     },
     "execution_count": 427,
     "metadata": {},
     "output_type": "execute_result"
    }
   ],
   "source": [
    "del_tweets = 0\n",
    "for tweet in twitter:\n",
    "    for key in tweet.keys():\n",
    "        if key == 'delete':\n",
    "            del_tweets += 1\n",
    "\n",
    "del_tweets_perc = round(del_tweets/len(twitter)*100, 2)\n",
    "del_tweets_perc"
   ]
  },
  {
   "cell_type": "markdown",
   "metadata": {},
   "source": [
    "## Задание №3\n",
    "\n",
    "Для начала создаем частотный словарь с помощью Counter. Далее циклом проходимся по твитам в списке и проверяем, если ли там клуч 'lang' (это может быть твит без текста - например, с числами или картинкой). Если есть, добавляем значение по этому ключу в частотный словарь. Далее выводим 10 самых популярных языков твитов."
   ]
  },
  {
   "cell_type": "code",
   "execution_count": 428,
   "metadata": {},
   "outputs": [
    {
     "data": {
      "text/plain": [
       "[('en', 719),\n",
       " ('ja', 438),\n",
       " ('es', 173),\n",
       " ('ko', 149),\n",
       " ('th', 123),\n",
       " ('ar', 119),\n",
       " ('und', 117),\n",
       " ('in', 71),\n",
       " ('pt', 69),\n",
       " ('fr', 35)]"
      ]
     },
     "execution_count": 428,
     "metadata": {},
     "output_type": "execute_result"
    }
   ],
   "source": [
    "dict_lang = Counter()\n",
    "for entry in twitter:\n",
    "    if 'lang' in entry:\n",
    "        language = entry['lang']\n",
    "        dict_lang[language] += 1\n",
    "dict_lang.most_common(10)"
   ]
  },
  {
   "cell_type": "markdown",
   "metadata": {},
   "source": [
    "## Задание №4\n",
    "\n",
    "Сначала создаем частотный словарь для id пользователей. Потом проходимся циклом по всем твитам в списке и проверяем, есть ли там ключ 'user' (такого ключа нет в удаленных твитах - там для той же цели используется ключ 'user_id', но мы решили не считать удаленные твиты в этом задании, поэтому я не учитываю этот ключ). Если он есть, достаем из его значения, которое является словарем, значение по ключу 'id' и добавляем в созданный выше частотный словарь. Далее создаем переменную и добавляем туда все ключи, значения которых в нашем частотном словаре больше одного, и выводим значение этой переменной."
   ]
  },
  {
   "cell_type": "code",
   "execution_count": 429,
   "metadata": {},
   "outputs": [
    {
     "data": {
      "text/plain": [
       "25"
      ]
     },
     "execution_count": 429,
     "metadata": {},
     "output_type": "execute_result"
    }
   ],
   "source": [
    "dict_users = Counter()\n",
    "\n",
    "for item in twitter:\n",
    "    if 'user' in item:\n",
    "        user_id = item['user']['id']\n",
    "        dict_users[user_id] += 1\n",
    "\n",
    "x = 0\n",
    "for i in dict_users.values():\n",
    "    if i > 1:\n",
    "        x += 1\n",
    "x"
   ]
  },
  {
   "cell_type": "markdown",
   "metadata": {},
   "source": [
    "## Задание №5\n",
    "\n",
    "Создаем частотный словарь, циклом проходим по твитам в списке, в каждом твите ищем ключ 'entities' (в удаленных таких ключей нет). Его значение - словарь. В нем ищем значение по ключу 'hashtags', которое уже является списком словарей. Циклом проходимся по каждому элементу-словарю этого списка, ищем в нем значение по ключу 'text' - в этом значении хранится сам текст хэштега - и добавляем в частотный словарь. Выводим топ-20 хэштегов."
   ]
  },
  {
   "cell_type": "code",
   "execution_count": 430,
   "metadata": {},
   "outputs": [
    {
     "data": {
      "text/plain": [
       "[('BTS', 17),\n",
       " ('방탄소년단', 13),\n",
       " ('AMAs', 11),\n",
       " ('人気投票ガチャ', 8),\n",
       " ('태형', 7),\n",
       " ('뷔', 6),\n",
       " ('BTSinChicago', 5),\n",
       " ('BTSLoveYourselfTour', 5),\n",
       " ('오늘의방탄', 5),\n",
       " ('PledgeForSwachhBharat', 5),\n",
       " ('MPN', 5),\n",
       " ('PCAs', 4),\n",
       " ('V', 4),\n",
       " ('시카고1회차공연', 4),\n",
       " ('เป๊กผลิตโชค', 4),\n",
       " ('JIMIN', 4),\n",
       " ('running', 3),\n",
       " ('NCT', 3),\n",
       " ('지민', 3),\n",
       " ('WajahmuPlastik', 3)]"
      ]
     },
     "execution_count": 430,
     "metadata": {},
     "output_type": "execute_result"
    }
   ],
   "source": [
    "dict_hash = Counter()\n",
    "\n",
    "for i in twitter:\n",
    "    if 'entities' in i:\n",
    "        for x in i['entities']['hashtags']:\n",
    "            tag = x['text']\n",
    "            dict_hash[tag] += 1\n",
    "dict_hash.most_common(20)"
   ]
  }
 ],
 "metadata": {
  "kernelspec": {
   "display_name": "Python 3",
   "language": "python",
   "name": "python3"
  },
  "language_info": {
   "codemirror_mode": {
    "name": "ipython",
    "version": 3
   },
   "file_extension": ".py",
   "mimetype": "text/x-python",
   "name": "python",
   "nbconvert_exporter": "python",
   "pygments_lexer": "ipython3",
   "version": "3.7.3"
  }
 },
 "nbformat": 4,
 "nbformat_minor": 2
}
